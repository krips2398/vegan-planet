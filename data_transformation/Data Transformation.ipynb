{
 "cells": [
  {
   "cell_type": "code",
   "execution_count": 3,
   "id": "057e202a",
   "metadata": {},
   "outputs": [],
   "source": [
    "import pandas as pd\n",
    "import numpy as np\n",
    "import pyreadstat\n",
    "import re\n",
    "from datetime import datetime\n",
    "import pyreadstat"
   ]
  },
  {
   "cell_type": "code",
   "execution_count": null,
   "id": "6fea551f",
   "metadata": {},
   "outputs": [],
   "source": [
    "pd.options.display.max_columns = 100"
   ]
  },
  {
   "cell_type": "markdown",
   "id": "6f05ae8a",
   "metadata": {},
   "source": [
    "#### Geospatial data"
   ]
  },
  {
   "cell_type": "markdown",
   "id": "32660d97",
   "metadata": {},
   "source": [
    "We would like to visualize the spread of vegetarian restaurants across different states in the United States. So we extracted the coloumns called PROVINCE. We then used US state mapper to map the state names to its abbreviations which is in the data. We created a new data frame which contains only two columns - Province and the number of restaurants in each province. The columns have been renamed to region and value to be compatible to the library that we are going to use. "
   ]
  },
  {
   "cell_type": "code",
   "execution_count": null,
   "id": "e4c51b7d",
   "metadata": {},
   "outputs": [],
   "source": [
    "df_1 = pd.read_csv(\"../project_data/vegetarian_restaurants_US_datafiniti.csv\")"
   ]
  },
  {
   "cell_type": "code",
   "execution_count": null,
   "id": "51dc95a8",
   "metadata": {},
   "outputs": [],
   "source": [
    "df_state = df_1.groupby(by='province').agg({'name':'nunique'})"
   ]
  },
  {
   "cell_type": "code",
   "execution_count": null,
   "id": "2fdd71dc",
   "metadata": {},
   "outputs": [],
   "source": [
    "df_state.reset_index(inplace=True)"
   ]
  },
  {
   "cell_type": "code",
   "execution_count": null,
   "id": "6fdeeb12",
   "metadata": {},
   "outputs": [],
   "source": [
    "    us_state_abbrev = {\n",
    "        'AL': 'Alabama',\n",
    "        'AK': 'Alaska',\n",
    "        'AZ': 'Arizona',\n",
    "        'AR': 'Arkansas',\n",
    "        'CA': 'California',\n",
    "        'CO': 'Colorado',\n",
    "        'CT': 'Connecticut',\n",
    "        'DE': 'Delaware',\n",
    "        'FL': 'Florida',\n",
    "        'GA': 'Georgia',\n",
    "        'HI': 'Hawaii',\n",
    "        'ID': 'Idaho',\n",
    "        'IL': 'Illinois',\n",
    "        'IN': 'Indiana',\n",
    "        'IA': 'Iowa',\n",
    "        'KS': 'Kansas',\n",
    "        'KY': 'Kentucky',\n",
    "        'LA': 'Louisiana',\n",
    "        'ME': 'Maine',\n",
    "        'MD': 'Maryland',\n",
    "        'MA': 'Massachusetts',\n",
    "        'MI': 'Michigan',\n",
    "        'MN': 'Minnesota',\n",
    "        'MS': 'Mississippi',\n",
    "        'MO': 'Missouri',\n",
    "        'MT': 'Montana',\n",
    "        'NE': 'Nebraska',\n",
    "        'NV': 'Nevada',\n",
    "        'NH': 'New Hampshire',\n",
    "        'NJ': 'New Jersey',\n",
    "        'NM': 'New Mexico',\n",
    "        'NY': 'New York',\n",
    "        'NC': 'North Carolina',\n",
    "        'ND': 'North Dakota',\n",
    "        'OH': 'Ohio',\n",
    "        'OK': 'Oklahoma',\n",
    "        'OR': 'Oregon',\n",
    "        'PA': 'Pennsylvania',\n",
    "        'RI': 'Rhode Island',\n",
    "        'SC': 'South Carolina',\n",
    "        'SD': 'South Dakota',\n",
    "        'TN': 'Tennessee',\n",
    "        'TX': 'Texas',\n",
    "        'UT': 'Utah',\n",
    "        'VT': 'Vermont',\n",
    "        'VA': 'Virginia',\n",
    "        'WA': 'Washington',\n",
    "        'WV': 'West Virginia',\n",
    "        'WI': 'Wisconsin',\n",
    "        'WY': 'Wyoming',\n",
    "    }"
   ]
  },
  {
   "cell_type": "code",
   "execution_count": null,
   "id": "3f11b76f",
   "metadata": {},
   "outputs": [],
   "source": [
    "def func(x, us_):\n",
    "    return us_[x].lower()"
   ]
  },
  {
   "cell_type": "code",
   "execution_count": null,
   "id": "a37c49ac",
   "metadata": {},
   "outputs": [],
   "source": [
    "df_state.rename(columns={'province':'region','name':'value'},inplace=True)"
   ]
  },
  {
   "cell_type": "code",
   "execution_count": null,
   "id": "9acd73c6",
   "metadata": {},
   "outputs": [],
   "source": [
    "df_state = df_state[df_state['region']!=\"AU-WA\"]\n",
    "df_state = df_state[df_state['region']!=\"DC\"]"
   ]
  },
  {
   "cell_type": "code",
   "execution_count": null,
   "id": "b2c21d23",
   "metadata": {},
   "outputs": [],
   "source": [
    "df_state['region'] = df_state['region'].apply(lambda x: func(x,us_state_abbrev))"
   ]
  },
  {
   "cell_type": "code",
   "execution_count": null,
   "id": "5d105d7d",
   "metadata": {},
   "outputs": [],
   "source": [
    "df_state.to_csv('../project_data/states_grouped.csv',index=False)"
   ]
  },
  {
   "cell_type": "markdown",
   "id": "4cd1761e",
   "metadata": {},
   "source": [
    "### Reading .sav extension files"
   ]
  },
  {
   "cell_type": "code",
   "execution_count": 4,
   "id": "bf806cd4",
   "metadata": {},
   "outputs": [],
   "source": [
    "df, meta = pyreadstat.read_sav(\"../project_data/respondents.sav\")"
   ]
  },
  {
   "cell_type": "code",
   "execution_count": 5,
   "id": "425d3e36",
   "metadata": {},
   "outputs": [],
   "source": [
    "df1, meta = pyreadstat.read_sav(\"../project_data/Faunalytics-Current-Former-Veg-Study-Dataset-All-Respondents-Original-Variables.sav\")"
   ]
  },
  {
   "cell_type": "code",
   "execution_count": 6,
   "id": "74bdc873",
   "metadata": {},
   "outputs": [],
   "source": [
    "df_reasons = df[['id','ALLANIMALPROTECTION','ALLENVIRONMENT','ALLCOST','ALLHEALTH','ALLRELIGIOUSSPIRITUAL',\n",
    "                'ALLSOCIALINFLUENCE','ALLSOCIALJUSTICEWORLDHUNGER','ALLFOODTREND','ALLDISGUST']]"
   ]
  },
  {
   "cell_type": "code",
   "execution_count": 7,
   "id": "df625ea0",
   "metadata": {},
   "outputs": [
    {
     "name": "stderr",
     "output_type": "stream",
     "text": [
      "<ipython-input-7-925217ff448e>:1: SettingWithCopyWarning: \n",
      "A value is trying to be set on a copy of a slice from a DataFrame\n",
      "\n",
      "See the caveats in the documentation: https://pandas.pydata.org/pandas-docs/stable/user_guide/indexing.html#returning-a-view-versus-a-copy\n",
      "  df_reasons.dropna(inplace=True)\n"
     ]
    }
   ],
   "source": [
    "df_reasons.dropna(inplace=True)"
   ]
  },
  {
   "cell_type": "code",
   "execution_count": 8,
   "id": "c1319c38",
   "metadata": {},
   "outputs": [
    {
     "name": "stderr",
     "output_type": "stream",
     "text": [
      "/Users/saikrupa/opt/anaconda3/lib/python3.8/site-packages/pandas/core/frame.py:4308: SettingWithCopyWarning: \n",
      "A value is trying to be set on a copy of a slice from a DataFrame\n",
      "\n",
      "See the caveats in the documentation: https://pandas.pydata.org/pandas-docs/stable/user_guide/indexing.html#returning-a-view-versus-a-copy\n",
      "  return super().drop(\n"
     ]
    }
   ],
   "source": [
    "df_reasons.drop(columns=['id'],inplace=True)"
   ]
  },
  {
   "cell_type": "code",
   "execution_count": 9,
   "id": "a0cbfaf2",
   "metadata": {},
   "outputs": [],
   "source": [
    "df_reasons = df_reasons.apply(pd.Series.value_counts)"
   ]
  },
  {
   "cell_type": "code",
   "execution_count": 10,
   "id": "634b057f",
   "metadata": {},
   "outputs": [],
   "source": [
    "df_reasons = df_reasons.transpose()"
   ]
  },
  {
   "cell_type": "code",
   "execution_count": 11,
   "id": "7658e4bc",
   "metadata": {},
   "outputs": [],
   "source": [
    "df_reasons = df_reasons.rename(columns={2.0:\"Very little\",3.0:\"little\",1.0:\"Not at all\",4.0:\"high\",5.0:\"Very High\"})"
   ]
  },
  {
   "cell_type": "code",
   "execution_count": 13,
   "id": "5765b79f",
   "metadata": {},
   "outputs": [],
   "source": [
    "df_modified = df_reasons.transpose()"
   ]
  },
  {
   "cell_type": "code",
   "execution_count": null,
   "id": "a6146ac1",
   "metadata": {},
   "outputs": [],
   "source": [
    "df_modified.reset_index(inplace=True)"
   ]
  },
  {
   "cell_type": "code",
   "execution_count": null,
   "id": "69ef8918",
   "metadata": {},
   "outputs": [],
   "source": [
    "df_modified = df_modified.to_dict('list')"
   ]
  },
  {
   "cell_type": "code",
   "execution_count": null,
   "id": "886760c5",
   "metadata": {},
   "outputs": [],
   "source": [
    "f = open(\"../project_data_1/interactive_plots.json\", \"w\")\n",
    "json.dump(df_modified,f)\n",
    "f.close()"
   ]
  },
  {
   "cell_type": "markdown",
   "id": "d3c6d8e0",
   "metadata": {},
   "source": [
    "### Inconvience because of veganism"
   ]
  },
  {
   "cell_type": "code",
   "execution_count": null,
   "id": "27d0819a",
   "metadata": {},
   "outputs": [],
   "source": [
    "df_inconvience = df[['id','ALLINCONVENIENCE1','ALLINCONVENIENCE2','ALLINCONVENIENCE3','ALLINCONVENIENCE4','ALLINCONVENIENCE5','ALLINCONVENIENCE6',\n",
    "   'ALLINCONVENIENCE7']]"
   ]
  },
  {
   "cell_type": "code",
   "execution_count": null,
   "id": "b93a0eb8",
   "metadata": {},
   "outputs": [],
   "source": [
    "def function_transform(x):\n",
    "    if int(x)==2:\n",
    "        return 1\n",
    "    elif int(x)==4:\n",
    "        return 5\n",
    "    else:\n",
    "        return int(x)"
   ]
  },
  {
   "cell_type": "code",
   "execution_count": null,
   "id": "0926bdc7",
   "metadata": {},
   "outputs": [],
   "source": [
    "df_inconvience[df_inconvience['ALLINCONVENIENCE1'].isna() == True]"
   ]
  },
  {
   "cell_type": "code",
   "execution_count": null,
   "id": "162de8af",
   "metadata": {},
   "outputs": [],
   "source": [
    "df_inconvience[df_inconvience['ALLINCONVENIENCE3'].isna() == True]"
   ]
  },
  {
   "cell_type": "code",
   "execution_count": null,
   "id": "c0ad52bf",
   "metadata": {},
   "outputs": [],
   "source": [
    "df_inconvience.dropna(inplace=True)"
   ]
  },
  {
   "cell_type": "code",
   "execution_count": null,
   "id": "448d371e",
   "metadata": {},
   "outputs": [],
   "source": [
    "df_inconvience['ALLINCONVENIENCE1'] = df_inconvience['ALLINCONVENIENCE1'].apply(lambda x:function_transform(x))\n",
    "\n",
    "df_inconvience['ALLINCONVENIENCE2'] = df_inconvience['ALLINCONVENIENCE2'].apply(lambda x:function_transform(x))\n",
    "\n",
    "df_inconvience['ALLINCONVENIENCE3'] = df_inconvience['ALLINCONVENIENCE3'].apply(lambda x:function_transform(x))\n",
    "\n",
    "df_inconvience['ALLINCONVENIENCE4'] = df_inconvience['ALLINCONVENIENCE4'].apply(lambda x:function_transform(x))\n",
    "\n",
    "df_inconvience['ALLINCONVENIENCE5'] = df_inconvience['ALLINCONVENIENCE5'].apply(lambda x:function_transform(x))\n",
    "\n",
    "df_inconvience['ALLINCONVENIENCE6'] = df_inconvience['ALLINCONVENIENCE6'].apply(lambda x:function_transform(x))\n",
    "\n",
    "df_inconvience['ALLINCONVENIENCE7'] = df_inconvience['ALLINCONVENIENCE7'].apply(lambda x:function_transform(x))"
   ]
  },
  {
   "cell_type": "code",
   "execution_count": null,
   "id": "de2947ed",
   "metadata": {},
   "outputs": [],
   "source": [
    "df_inconvience.rename(columns={'ALLINCONVENIENCE1':'complication_in_preparing','ALLINCONVENIENCE2':'time_consuming',\n",
    "                              'ALLINCONVENIENCE3':'no_restuarants_for_grab_n_go','ALLINCONVENIENCE4':'easy_access',\n",
    "                              'ALLINCONVENIENCE5':'have_to_prepare_both_vegatrain_and_non_vegetarian',\n",
    "                              'ALLINCONVENIENCE6':'hard_time_grocery_shopping','ALLINCONVENIENCE7':'difficult_during_time_of_transition'},inplace=True)"
   ]
  },
  {
   "cell_type": "code",
   "execution_count": null,
   "id": "e217985c",
   "metadata": {},
   "outputs": [],
   "source": [
    "df_inconvience.drop(columns=['id'],inplace=True)"
   ]
  },
  {
   "cell_type": "code",
   "execution_count": null,
   "id": "91e58e07",
   "metadata": {},
   "outputs": [],
   "source": [
    "df_inconvience = df_inconvience.apply(pd.Series.value_counts)"
   ]
  },
  {
   "cell_type": "code",
   "execution_count": null,
   "id": "8760e8c1",
   "metadata": {},
   "outputs": [],
   "source": [
    "df_inconvience = df_inconvience.transpose()"
   ]
  },
  {
   "cell_type": "code",
   "execution_count": null,
   "id": "36cf2f95",
   "metadata": {},
   "outputs": [],
   "source": [
    "df_inconvience = df_inconvience.rename(columns={1:\"Disagree\",5:\"Neither agree nor disagree\",3:\"Agree\"})df_inconvience.reset_index(inplace=True)"
   ]
  },
  {
   "cell_type": "code",
   "execution_count": null,
   "id": "2ae1e8a1",
   "metadata": {},
   "outputs": [],
   "source": [
    "df_inconvience.rename(columns={'index':'reason'},inplace=True)"
   ]
  },
  {
   "cell_type": "code",
   "execution_count": null,
   "id": "8ed83647",
   "metadata": {},
   "outputs": [],
   "source": [
    "df_inconvience.to_csv('../project_data/inconvience_reasons.csv',index=False,encoding='utf-8')"
   ]
  },
  {
   "cell_type": "markdown",
   "id": "084bd8d7",
   "metadata": {},
   "source": [
    "### Transition and length of veganism and what age groups are feeling a difficulty of transition"
   ]
  },
  {
   "cell_type": "code",
   "execution_count": 14,
   "id": "50cc6ca2",
   "metadata": {},
   "outputs": [],
   "source": [
    "df_categorical = df[['id','ALLAGEADOPTION','ALLTRANSITION','ALLLENGTH']]"
   ]
  },
  {
   "cell_type": "code",
   "execution_count": null,
   "id": "f4f111ea",
   "metadata": {},
   "outputs": [],
   "source": [
    "def func_age(x):\n",
    "    if x>=0 and x<=20:\n",
    "        return \"0-20\"\n",
    "    elif x>20 and x<=40:\n",
    "        return \"20-40\"\n",
    "    elif x>40 and x<=60:\n",
    "        return \"40-60\"\n",
    "    elif x>60 and x<=80:\n",
    "        return \"60-80\"\n",
    "    else:\n",
    "        return \"80-100\""
   ]
  },
  {
   "cell_type": "code",
   "execution_count": null,
   "id": "ecb13585",
   "metadata": {},
   "outputs": [],
   "source": [
    "df_categorical['Age'] = df_categorical['ALLAGEADOPTION'].apply(lambda x: func_age(x))"
   ]
  },
  {
   "cell_type": "code",
   "execution_count": null,
   "id": "61e27ae2",
   "metadata": {},
   "outputs": [],
   "source": [
    "df_age_transition = df_categorical[['id','Age']]"
   ]
  },
  {
   "cell_type": "code",
   "execution_count": null,
   "id": "781fae68",
   "metadata": {},
   "outputs": [],
   "source": [
    "df_merge = pd.merge(df_age_transition, df[['id','ALLINCONVENIENCE7']],left_on=\"id\",right_on=\"id\")"
   ]
  },
  {
   "cell_type": "code",
   "execution_count": null,
   "id": "2548cc23",
   "metadata": {},
   "outputs": [],
   "source": [
    "df_merge.dropna(inplace=True)"
   ]
  },
  {
   "cell_type": "code",
   "execution_count": null,
   "id": "47bb9a1d",
   "metadata": {},
   "outputs": [],
   "source": [
    "df_merge['id'] = df_merge['id'].apply(lambda x:int(x))"
   ]
  },
  {
   "cell_type": "code",
   "execution_count": null,
   "id": "598d2273",
   "metadata": {},
   "outputs": [],
   "source": [
    "df_merge['ALLINCONVENIENCE7'] = df_merge['ALLINCONVENIENCE7'].apply(lambda x:int(x))"
   ]
  },
  {
   "cell_type": "code",
   "execution_count": null,
   "id": "81c9443b",
   "metadata": {},
   "outputs": [],
   "source": [
    "df_merge.rename(columns={'ALLINCONVENIENCE7':'difficulty_during_transition'},inplace=True)"
   ]
  },
  {
   "cell_type": "code",
   "execution_count": null,
   "id": "cdcc10ed",
   "metadata": {},
   "outputs": [],
   "source": [
    "df_merge.to_csv(\"../project_data/age_difficulty_during_transition.csv\",index=False)"
   ]
  },
  {
   "cell_type": "code",
   "execution_count": null,
   "id": "3d844067",
   "metadata": {},
   "outputs": [],
   "source": [
    "df_categorical.to_csv('age_transition_legth.csv',index=False,encoding='utf-8')"
   ]
  },
  {
   "cell_type": "code",
   "execution_count": null,
   "id": "d2c169cf",
   "metadata": {},
   "outputs": [],
   "source": []
  },
  {
   "cell_type": "code",
   "execution_count": null,
   "id": "7e0977da",
   "metadata": {},
   "outputs": [],
   "source": []
  },
  {
   "cell_type": "code",
   "execution_count": null,
   "id": "4a06c7b4",
   "metadata": {},
   "outputs": [],
   "source": []
  },
  {
   "cell_type": "code",
   "execution_count": null,
   "id": "703e8ff1",
   "metadata": {},
   "outputs": [],
   "source": []
  },
  {
   "cell_type": "code",
   "execution_count": null,
   "id": "a7ef90f7",
   "metadata": {},
   "outputs": [],
   "source": []
  },
  {
   "cell_type": "code",
   "execution_count": null,
   "id": "f4333d12",
   "metadata": {},
   "outputs": [],
   "source": []
  },
  {
   "cell_type": "code",
   "execution_count": null,
   "id": "c7902493",
   "metadata": {},
   "outputs": [],
   "source": []
  }
 ],
 "metadata": {
  "kernelspec": {
   "display_name": "Python 3",
   "language": "python",
   "name": "python3"
  },
  "language_info": {
   "codemirror_mode": {
    "name": "ipython",
    "version": 3
   },
   "file_extension": ".py",
   "mimetype": "text/x-python",
   "name": "python",
   "nbconvert_exporter": "python",
   "pygments_lexer": "ipython3",
   "version": "3.8.8"
  }
 },
 "nbformat": 4,
 "nbformat_minor": 5
}
