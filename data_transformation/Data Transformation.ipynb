{
 "cells": [
  {
   "cell_type": "code",
   "execution_count": 16,
   "id": "057e202a",
   "metadata": {},
   "outputs": [],
   "source": [
    "import pandas as pd\n",
    "import numpy as np\n",
    "import pyreadstat\n",
    "import re\n",
    "from datetime import datetime\n",
    "import pyreadstat\n",
    "import json"
   ]
  },
  {
   "cell_type": "code",
   "execution_count": 17,
   "id": "6fea551f",
   "metadata": {},
   "outputs": [],
   "source": [
    "pd.options.display.max_columns = 100"
   ]
  },
  {
   "cell_type": "markdown",
   "id": "6f05ae8a",
   "metadata": {},
   "source": [
    "#### Geospatial data"
   ]
  },
  {
   "cell_type": "markdown",
   "id": "32660d97",
   "metadata": {},
   "source": [
    "We would like to visualize the spread of vegetarian restaurants across different states in the United States. So we extracted the coloumns called PROVINCE. We then used US state mapper to map the state names to its abbreviations which is in the data. We created a new data frame which contains only two columns - Province and the number of restaurants in each province. The columns have been renamed to region and value to be compatible to the library that we are going to use. "
   ]
  },
  {
   "cell_type": "code",
   "execution_count": 18,
   "id": "e4c51b7d",
   "metadata": {},
   "outputs": [],
   "source": [
    "df_1 = pd.read_csv(\"../project_data/vegetarian_restaurants_US_datafiniti.csv\")"
   ]
  },
  {
   "cell_type": "code",
   "execution_count": 19,
   "id": "51dc95a8",
   "metadata": {},
   "outputs": [],
   "source": [
    "df_state = df_1.groupby(by='province').agg({'name':'nunique'})"
   ]
  },
  {
   "cell_type": "code",
   "execution_count": 20,
   "id": "2fdd71dc",
   "metadata": {},
   "outputs": [],
   "source": [
    "df_state.reset_index(inplace=True)"
   ]
  },
  {
   "cell_type": "code",
   "execution_count": 21,
   "id": "6fdeeb12",
   "metadata": {},
   "outputs": [],
   "source": [
    "    us_state_abbrev = {\n",
    "        'AL': 'Alabama',\n",
    "        'AK': 'Alaska',\n",
    "        'AZ': 'Arizona',\n",
    "        'AR': 'Arkansas',\n",
    "        'CA': 'California',\n",
    "        'CO': 'Colorado',\n",
    "        'CT': 'Connecticut',\n",
    "        'DE': 'Delaware',\n",
    "        'FL': 'Florida',\n",
    "        'GA': 'Georgia',\n",
    "        'HI': 'Hawaii',\n",
    "        'ID': 'Idaho',\n",
    "        'IL': 'Illinois',\n",
    "        'IN': 'Indiana',\n",
    "        'IA': 'Iowa',\n",
    "        'KS': 'Kansas',\n",
    "        'KY': 'Kentucky',\n",
    "        'LA': 'Louisiana',\n",
    "        'ME': 'Maine',\n",
    "        'MD': 'Maryland',\n",
    "        'MA': 'Massachusetts',\n",
    "        'MI': 'Michigan',\n",
    "        'MN': 'Minnesota',\n",
    "        'MS': 'Mississippi',\n",
    "        'MO': 'Missouri',\n",
    "        'MT': 'Montana',\n",
    "        'NE': 'Nebraska',\n",
    "        'NV': 'Nevada',\n",
    "        'NH': 'New Hampshire',\n",
    "        'NJ': 'New Jersey',\n",
    "        'NM': 'New Mexico',\n",
    "        'NY': 'New York',\n",
    "        'NC': 'North Carolina',\n",
    "        'ND': 'North Dakota',\n",
    "        'OH': 'Ohio',\n",
    "        'OK': 'Oklahoma',\n",
    "        'OR': 'Oregon',\n",
    "        'PA': 'Pennsylvania',\n",
    "        'RI': 'Rhode Island',\n",
    "        'SC': 'South Carolina',\n",
    "        'SD': 'South Dakota',\n",
    "        'TN': 'Tennessee',\n",
    "        'TX': 'Texas',\n",
    "        'UT': 'Utah',\n",
    "        'VT': 'Vermont',\n",
    "        'VA': 'Virginia',\n",
    "        'WA': 'Washington',\n",
    "        'WV': 'West Virginia',\n",
    "        'WI': 'Wisconsin',\n",
    "        'WY': 'Wyoming',\n",
    "    }"
   ]
  },
  {
   "cell_type": "code",
   "execution_count": null,
   "id": "3f11b76f",
   "metadata": {},
   "outputs": [],
   "source": [
    "def func(x, us_):\n",
    "    return us_[x].lower()"
   ]
  },
  {
   "cell_type": "code",
   "execution_count": null,
   "id": "a37c49ac",
   "metadata": {},
   "outputs": [],
   "source": [
    "df_state.rename(columns={'province':'region','name':'value'},inplace=True)"
   ]
  },
  {
   "cell_type": "code",
   "execution_count": null,
   "id": "9acd73c6",
   "metadata": {},
   "outputs": [],
   "source": [
    "df_state = df_state[df_state['region']!=\"AU-WA\"]\n",
    "df_state = df_state[df_state['region']!=\"DC\"]"
   ]
  },
  {
   "cell_type": "code",
   "execution_count": null,
   "id": "b2c21d23",
   "metadata": {},
   "outputs": [],
   "source": [
    "df_state['region'] = df_state['region'].apply(lambda x: func(x,us_state_abbrev))"
   ]
  },
  {
   "cell_type": "code",
   "execution_count": null,
   "id": "5d105d7d",
   "metadata": {},
   "outputs": [],
   "source": [
    "df_state.to_csv('../project_data/states_grouped.csv',index=False)"
   ]
  },
  {
   "cell_type": "markdown",
   "id": "4cd1761e",
   "metadata": {},
   "source": [
    "### Reading .sav extension files"
   ]
  },
  {
   "cell_type": "code",
   "execution_count": 3,
   "id": "bf806cd4",
   "metadata": {},
   "outputs": [],
   "source": [
    "df, meta = pyreadstat.read_sav(\"../project_data/respondents.sav\")"
   ]
  },
  {
   "cell_type": "code",
   "execution_count": 4,
   "id": "425d3e36",
   "metadata": {},
   "outputs": [],
   "source": [
    "df1, meta = pyreadstat.read_sav(\"../project_data/Faunalytics-Current-Former-Veg-Study-Dataset-All-Respondents-Original-Variables.sav\")"
   ]
  },
  {
   "cell_type": "code",
   "execution_count": 5,
   "id": "74bdc873",
   "metadata": {},
   "outputs": [],
   "source": [
    "df_reasons = df[['id','ALLANIMALPROTECTION','ALLENVIRONMENT','ALLCOST','ALLHEALTH','ALLRELIGIOUSSPIRITUAL',\n",
    "                'ALLSOCIALINFLUENCE','ALLSOCIALJUSTICEWORLDHUNGER','ALLFOODTREND','ALLDISGUST']]"
   ]
  },
  {
   "cell_type": "code",
   "execution_count": 6,
   "id": "df625ea0",
   "metadata": {},
   "outputs": [
    {
     "name": "stderr",
     "output_type": "stream",
     "text": [
      "<ipython-input-6-925217ff448e>:1: SettingWithCopyWarning: \n",
      "A value is trying to be set on a copy of a slice from a DataFrame\n",
      "\n",
      "See the caveats in the documentation: https://pandas.pydata.org/pandas-docs/stable/user_guide/indexing.html#returning-a-view-versus-a-copy\n",
      "  df_reasons.dropna(inplace=True)\n"
     ]
    }
   ],
   "source": [
    "df_reasons.dropna(inplace=True)"
   ]
  },
  {
   "cell_type": "code",
   "execution_count": 7,
   "id": "c1319c38",
   "metadata": {},
   "outputs": [
    {
     "name": "stderr",
     "output_type": "stream",
     "text": [
      "/Users/saikrupa/opt/anaconda3/lib/python3.8/site-packages/pandas/core/frame.py:4308: SettingWithCopyWarning: \n",
      "A value is trying to be set on a copy of a slice from a DataFrame\n",
      "\n",
      "See the caveats in the documentation: https://pandas.pydata.org/pandas-docs/stable/user_guide/indexing.html#returning-a-view-versus-a-copy\n",
      "  return super().drop(\n"
     ]
    }
   ],
   "source": [
    "df_reasons.drop(columns=['id'],inplace=True)"
   ]
  },
  {
   "cell_type": "code",
   "execution_count": 8,
   "id": "a0cbfaf2",
   "metadata": {},
   "outputs": [],
   "source": [
    "df_reasons = df_reasons.apply(pd.Series.value_counts)"
   ]
  },
  {
   "cell_type": "code",
   "execution_count": 9,
   "id": "634b057f",
   "metadata": {},
   "outputs": [],
   "source": [
    "df_reasons = df_reasons.transpose()"
   ]
  },
  {
   "cell_type": "code",
   "execution_count": 10,
   "id": "7658e4bc",
   "metadata": {},
   "outputs": [],
   "source": [
    "df_reasons = df_reasons.rename(columns={2.0:\"Very little\",3.0:\"little\",1.0:\"Not at all\",4.0:\"high\",5.0:\"Very High\"})"
   ]
  },
  {
   "cell_type": "code",
   "execution_count": 11,
   "id": "5765b79f",
   "metadata": {},
   "outputs": [],
   "source": [
    "df_modified = df_reasons.transpose()"
   ]
  },
  {
   "cell_type": "code",
   "execution_count": 12,
   "id": "a6146ac1",
   "metadata": {},
   "outputs": [],
   "source": [
    "df_modified.reset_index(inplace=True)"
   ]
  },
  {
   "cell_type": "code",
   "execution_count": 13,
   "id": "69ef8918",
   "metadata": {},
   "outputs": [],
   "source": [
    "df_modified = df_modified.to_dict('list')"
   ]
  },
  {
   "cell_type": "code",
   "execution_count": 14,
   "id": "886760c5",
   "metadata": {},
   "outputs": [],
   "source": [
    "f = open(\"../project_data/interactive_plots.json\", \"w\")\n",
    "json.dump(df_modified,f)\n",
    "f.close()"
   ]
  },
  {
   "cell_type": "markdown",
   "id": "d3c6d8e0",
   "metadata": {},
   "source": [
    "### Inconvience because of veganism"
   ]
  },
  {
   "cell_type": "code",
   "execution_count": 15,
   "id": "20bf054b",
   "metadata": {},
   "outputs": [
    {
     "data": {
      "text/plain": [
       "(1387, 1023)"
      ]
     },
     "execution_count": 15,
     "metadata": {},
     "output_type": "execute_result"
    }
   ],
   "source": [
    "df.shape"
   ]
  },
  {
   "cell_type": "code",
   "execution_count": 51,
   "id": "27d0819a",
   "metadata": {},
   "outputs": [],
   "source": [
    "df_inconvience = df[['id','ALLINCONVENIENCE1','ALLINCONVENIENCE2','ALLINCONVENIENCE3','ALLINCONVENIENCE4','ALLINCONVENIENCE5','ALLINCONVENIENCE6',\n",
    "   'ALLINCONVENIENCE7']]"
   ]
  },
  {
   "cell_type": "code",
   "execution_count": 52,
   "id": "b93a0eb8",
   "metadata": {},
   "outputs": [],
   "source": [
    "def function_transform(x):\n",
    "    if int(x)==2:\n",
    "        return 1\n",
    "    elif int(x)==4:\n",
    "        return 5\n",
    "    else:\n",
    "        return int(x)"
   ]
  },
  {
   "cell_type": "code",
   "execution_count": 53,
   "id": "0926bdc7",
   "metadata": {},
   "outputs": [
    {
     "data": {
      "text/html": [
       "<div>\n",
       "<style scoped>\n",
       "    .dataframe tbody tr th:only-of-type {\n",
       "        vertical-align: middle;\n",
       "    }\n",
       "\n",
       "    .dataframe tbody tr th {\n",
       "        vertical-align: top;\n",
       "    }\n",
       "\n",
       "    .dataframe thead th {\n",
       "        text-align: right;\n",
       "    }\n",
       "</style>\n",
       "<table border=\"1\" class=\"dataframe\">\n",
       "  <thead>\n",
       "    <tr style=\"text-align: right;\">\n",
       "      <th></th>\n",
       "      <th>id</th>\n",
       "      <th>ALLINCONVENIENCE1</th>\n",
       "      <th>ALLINCONVENIENCE2</th>\n",
       "      <th>ALLINCONVENIENCE3</th>\n",
       "      <th>ALLINCONVENIENCE4</th>\n",
       "      <th>ALLINCONVENIENCE5</th>\n",
       "      <th>ALLINCONVENIENCE6</th>\n",
       "      <th>ALLINCONVENIENCE7</th>\n",
       "    </tr>\n",
       "  </thead>\n",
       "  <tbody>\n",
       "    <tr>\n",
       "      <th>25</th>\n",
       "      <td>264.0</td>\n",
       "      <td>NaN</td>\n",
       "      <td>NaN</td>\n",
       "      <td>NaN</td>\n",
       "      <td>NaN</td>\n",
       "      <td>NaN</td>\n",
       "      <td>NaN</td>\n",
       "      <td>NaN</td>\n",
       "    </tr>\n",
       "    <tr>\n",
       "      <th>80</th>\n",
       "      <td>776.0</td>\n",
       "      <td>NaN</td>\n",
       "      <td>NaN</td>\n",
       "      <td>NaN</td>\n",
       "      <td>NaN</td>\n",
       "      <td>NaN</td>\n",
       "      <td>NaN</td>\n",
       "      <td>NaN</td>\n",
       "    </tr>\n",
       "    <tr>\n",
       "      <th>152</th>\n",
       "      <td>1302.0</td>\n",
       "      <td>NaN</td>\n",
       "      <td>NaN</td>\n",
       "      <td>NaN</td>\n",
       "      <td>NaN</td>\n",
       "      <td>NaN</td>\n",
       "      <td>NaN</td>\n",
       "      <td>NaN</td>\n",
       "    </tr>\n",
       "    <tr>\n",
       "      <th>178</th>\n",
       "      <td>1483.0</td>\n",
       "      <td>NaN</td>\n",
       "      <td>NaN</td>\n",
       "      <td>NaN</td>\n",
       "      <td>NaN</td>\n",
       "      <td>NaN</td>\n",
       "      <td>NaN</td>\n",
       "      <td>NaN</td>\n",
       "    </tr>\n",
       "    <tr>\n",
       "      <th>229</th>\n",
       "      <td>1919.0</td>\n",
       "      <td>NaN</td>\n",
       "      <td>NaN</td>\n",
       "      <td>NaN</td>\n",
       "      <td>NaN</td>\n",
       "      <td>NaN</td>\n",
       "      <td>NaN</td>\n",
       "      <td>NaN</td>\n",
       "    </tr>\n",
       "    <tr>\n",
       "      <th>303</th>\n",
       "      <td>2560.0</td>\n",
       "      <td>NaN</td>\n",
       "      <td>NaN</td>\n",
       "      <td>NaN</td>\n",
       "      <td>NaN</td>\n",
       "      <td>NaN</td>\n",
       "      <td>NaN</td>\n",
       "      <td>NaN</td>\n",
       "    </tr>\n",
       "    <tr>\n",
       "      <th>351</th>\n",
       "      <td>3048.0</td>\n",
       "      <td>NaN</td>\n",
       "      <td>NaN</td>\n",
       "      <td>NaN</td>\n",
       "      <td>NaN</td>\n",
       "      <td>NaN</td>\n",
       "      <td>NaN</td>\n",
       "      <td>NaN</td>\n",
       "    </tr>\n",
       "    <tr>\n",
       "      <th>393</th>\n",
       "      <td>3583.0</td>\n",
       "      <td>NaN</td>\n",
       "      <td>NaN</td>\n",
       "      <td>NaN</td>\n",
       "      <td>NaN</td>\n",
       "      <td>NaN</td>\n",
       "      <td>NaN</td>\n",
       "      <td>NaN</td>\n",
       "    </tr>\n",
       "    <tr>\n",
       "      <th>407</th>\n",
       "      <td>3768.0</td>\n",
       "      <td>NaN</td>\n",
       "      <td>NaN</td>\n",
       "      <td>NaN</td>\n",
       "      <td>NaN</td>\n",
       "      <td>NaN</td>\n",
       "      <td>NaN</td>\n",
       "      <td>NaN</td>\n",
       "    </tr>\n",
       "    <tr>\n",
       "      <th>574</th>\n",
       "      <td>5137.0</td>\n",
       "      <td>NaN</td>\n",
       "      <td>NaN</td>\n",
       "      <td>NaN</td>\n",
       "      <td>NaN</td>\n",
       "      <td>NaN</td>\n",
       "      <td>NaN</td>\n",
       "      <td>NaN</td>\n",
       "    </tr>\n",
       "    <tr>\n",
       "      <th>887</th>\n",
       "      <td>7834.0</td>\n",
       "      <td>NaN</td>\n",
       "      <td>NaN</td>\n",
       "      <td>NaN</td>\n",
       "      <td>NaN</td>\n",
       "      <td>NaN</td>\n",
       "      <td>NaN</td>\n",
       "      <td>NaN</td>\n",
       "    </tr>\n",
       "    <tr>\n",
       "      <th>974</th>\n",
       "      <td>8972.0</td>\n",
       "      <td>NaN</td>\n",
       "      <td>NaN</td>\n",
       "      <td>NaN</td>\n",
       "      <td>NaN</td>\n",
       "      <td>NaN</td>\n",
       "      <td>NaN</td>\n",
       "      <td>NaN</td>\n",
       "    </tr>\n",
       "    <tr>\n",
       "      <th>1094</th>\n",
       "      <td>10114.0</td>\n",
       "      <td>NaN</td>\n",
       "      <td>NaN</td>\n",
       "      <td>NaN</td>\n",
       "      <td>NaN</td>\n",
       "      <td>NaN</td>\n",
       "      <td>NaN</td>\n",
       "      <td>NaN</td>\n",
       "    </tr>\n",
       "    <tr>\n",
       "      <th>1123</th>\n",
       "      <td>10333.0</td>\n",
       "      <td>NaN</td>\n",
       "      <td>NaN</td>\n",
       "      <td>NaN</td>\n",
       "      <td>NaN</td>\n",
       "      <td>NaN</td>\n",
       "      <td>NaN</td>\n",
       "      <td>NaN</td>\n",
       "    </tr>\n",
       "    <tr>\n",
       "      <th>1155</th>\n",
       "      <td>10671.0</td>\n",
       "      <td>NaN</td>\n",
       "      <td>NaN</td>\n",
       "      <td>NaN</td>\n",
       "      <td>NaN</td>\n",
       "      <td>NaN</td>\n",
       "      <td>NaN</td>\n",
       "      <td>NaN</td>\n",
       "    </tr>\n",
       "    <tr>\n",
       "      <th>1158</th>\n",
       "      <td>10685.0</td>\n",
       "      <td>NaN</td>\n",
       "      <td>NaN</td>\n",
       "      <td>NaN</td>\n",
       "      <td>NaN</td>\n",
       "      <td>NaN</td>\n",
       "      <td>NaN</td>\n",
       "      <td>NaN</td>\n",
       "    </tr>\n",
       "    <tr>\n",
       "      <th>1230</th>\n",
       "      <td>11184.0</td>\n",
       "      <td>NaN</td>\n",
       "      <td>NaN</td>\n",
       "      <td>NaN</td>\n",
       "      <td>NaN</td>\n",
       "      <td>NaN</td>\n",
       "      <td>NaN</td>\n",
       "      <td>NaN</td>\n",
       "    </tr>\n",
       "    <tr>\n",
       "      <th>1358</th>\n",
       "      <td>12158.0</td>\n",
       "      <td>NaN</td>\n",
       "      <td>NaN</td>\n",
       "      <td>NaN</td>\n",
       "      <td>NaN</td>\n",
       "      <td>NaN</td>\n",
       "      <td>NaN</td>\n",
       "      <td>NaN</td>\n",
       "    </tr>\n",
       "  </tbody>\n",
       "</table>\n",
       "</div>"
      ],
      "text/plain": [
       "           id  ALLINCONVENIENCE1  ALLINCONVENIENCE2  ALLINCONVENIENCE3  \\\n",
       "25      264.0                NaN                NaN                NaN   \n",
       "80      776.0                NaN                NaN                NaN   \n",
       "152    1302.0                NaN                NaN                NaN   \n",
       "178    1483.0                NaN                NaN                NaN   \n",
       "229    1919.0                NaN                NaN                NaN   \n",
       "303    2560.0                NaN                NaN                NaN   \n",
       "351    3048.0                NaN                NaN                NaN   \n",
       "393    3583.0                NaN                NaN                NaN   \n",
       "407    3768.0                NaN                NaN                NaN   \n",
       "574    5137.0                NaN                NaN                NaN   \n",
       "887    7834.0                NaN                NaN                NaN   \n",
       "974    8972.0                NaN                NaN                NaN   \n",
       "1094  10114.0                NaN                NaN                NaN   \n",
       "1123  10333.0                NaN                NaN                NaN   \n",
       "1155  10671.0                NaN                NaN                NaN   \n",
       "1158  10685.0                NaN                NaN                NaN   \n",
       "1230  11184.0                NaN                NaN                NaN   \n",
       "1358  12158.0                NaN                NaN                NaN   \n",
       "\n",
       "      ALLINCONVENIENCE4  ALLINCONVENIENCE5  ALLINCONVENIENCE6  \\\n",
       "25                  NaN                NaN                NaN   \n",
       "80                  NaN                NaN                NaN   \n",
       "152                 NaN                NaN                NaN   \n",
       "178                 NaN                NaN                NaN   \n",
       "229                 NaN                NaN                NaN   \n",
       "303                 NaN                NaN                NaN   \n",
       "351                 NaN                NaN                NaN   \n",
       "393                 NaN                NaN                NaN   \n",
       "407                 NaN                NaN                NaN   \n",
       "574                 NaN                NaN                NaN   \n",
       "887                 NaN                NaN                NaN   \n",
       "974                 NaN                NaN                NaN   \n",
       "1094                NaN                NaN                NaN   \n",
       "1123                NaN                NaN                NaN   \n",
       "1155                NaN                NaN                NaN   \n",
       "1158                NaN                NaN                NaN   \n",
       "1230                NaN                NaN                NaN   \n",
       "1358                NaN                NaN                NaN   \n",
       "\n",
       "      ALLINCONVENIENCE7  \n",
       "25                  NaN  \n",
       "80                  NaN  \n",
       "152                 NaN  \n",
       "178                 NaN  \n",
       "229                 NaN  \n",
       "303                 NaN  \n",
       "351                 NaN  \n",
       "393                 NaN  \n",
       "407                 NaN  \n",
       "574                 NaN  \n",
       "887                 NaN  \n",
       "974                 NaN  \n",
       "1094                NaN  \n",
       "1123                NaN  \n",
       "1155                NaN  \n",
       "1158                NaN  \n",
       "1230                NaN  \n",
       "1358                NaN  "
      ]
     },
     "execution_count": 53,
     "metadata": {},
     "output_type": "execute_result"
    }
   ],
   "source": [
    "df_inconvience[df_inconvience['ALLINCONVENIENCE1'].isna() == True]"
   ]
  },
  {
   "cell_type": "code",
   "execution_count": 54,
   "id": "162de8af",
   "metadata": {},
   "outputs": [
    {
     "data": {
      "text/html": [
       "<div>\n",
       "<style scoped>\n",
       "    .dataframe tbody tr th:only-of-type {\n",
       "        vertical-align: middle;\n",
       "    }\n",
       "\n",
       "    .dataframe tbody tr th {\n",
       "        vertical-align: top;\n",
       "    }\n",
       "\n",
       "    .dataframe thead th {\n",
       "        text-align: right;\n",
       "    }\n",
       "</style>\n",
       "<table border=\"1\" class=\"dataframe\">\n",
       "  <thead>\n",
       "    <tr style=\"text-align: right;\">\n",
       "      <th></th>\n",
       "      <th>id</th>\n",
       "      <th>ALLINCONVENIENCE1</th>\n",
       "      <th>ALLINCONVENIENCE2</th>\n",
       "      <th>ALLINCONVENIENCE3</th>\n",
       "      <th>ALLINCONVENIENCE4</th>\n",
       "      <th>ALLINCONVENIENCE5</th>\n",
       "      <th>ALLINCONVENIENCE6</th>\n",
       "      <th>ALLINCONVENIENCE7</th>\n",
       "    </tr>\n",
       "  </thead>\n",
       "  <tbody>\n",
       "    <tr>\n",
       "      <th>25</th>\n",
       "      <td>264.0</td>\n",
       "      <td>NaN</td>\n",
       "      <td>NaN</td>\n",
       "      <td>NaN</td>\n",
       "      <td>NaN</td>\n",
       "      <td>NaN</td>\n",
       "      <td>NaN</td>\n",
       "      <td>NaN</td>\n",
       "    </tr>\n",
       "    <tr>\n",
       "      <th>80</th>\n",
       "      <td>776.0</td>\n",
       "      <td>NaN</td>\n",
       "      <td>NaN</td>\n",
       "      <td>NaN</td>\n",
       "      <td>NaN</td>\n",
       "      <td>NaN</td>\n",
       "      <td>NaN</td>\n",
       "      <td>NaN</td>\n",
       "    </tr>\n",
       "    <tr>\n",
       "      <th>152</th>\n",
       "      <td>1302.0</td>\n",
       "      <td>NaN</td>\n",
       "      <td>NaN</td>\n",
       "      <td>NaN</td>\n",
       "      <td>NaN</td>\n",
       "      <td>NaN</td>\n",
       "      <td>NaN</td>\n",
       "      <td>NaN</td>\n",
       "    </tr>\n",
       "    <tr>\n",
       "      <th>178</th>\n",
       "      <td>1483.0</td>\n",
       "      <td>NaN</td>\n",
       "      <td>NaN</td>\n",
       "      <td>NaN</td>\n",
       "      <td>NaN</td>\n",
       "      <td>NaN</td>\n",
       "      <td>NaN</td>\n",
       "      <td>NaN</td>\n",
       "    </tr>\n",
       "    <tr>\n",
       "      <th>229</th>\n",
       "      <td>1919.0</td>\n",
       "      <td>NaN</td>\n",
       "      <td>NaN</td>\n",
       "      <td>NaN</td>\n",
       "      <td>NaN</td>\n",
       "      <td>NaN</td>\n",
       "      <td>NaN</td>\n",
       "      <td>NaN</td>\n",
       "    </tr>\n",
       "    <tr>\n",
       "      <th>303</th>\n",
       "      <td>2560.0</td>\n",
       "      <td>NaN</td>\n",
       "      <td>NaN</td>\n",
       "      <td>NaN</td>\n",
       "      <td>NaN</td>\n",
       "      <td>NaN</td>\n",
       "      <td>NaN</td>\n",
       "      <td>NaN</td>\n",
       "    </tr>\n",
       "    <tr>\n",
       "      <th>351</th>\n",
       "      <td>3048.0</td>\n",
       "      <td>NaN</td>\n",
       "      <td>NaN</td>\n",
       "      <td>NaN</td>\n",
       "      <td>NaN</td>\n",
       "      <td>NaN</td>\n",
       "      <td>NaN</td>\n",
       "      <td>NaN</td>\n",
       "    </tr>\n",
       "    <tr>\n",
       "      <th>393</th>\n",
       "      <td>3583.0</td>\n",
       "      <td>NaN</td>\n",
       "      <td>NaN</td>\n",
       "      <td>NaN</td>\n",
       "      <td>NaN</td>\n",
       "      <td>NaN</td>\n",
       "      <td>NaN</td>\n",
       "      <td>NaN</td>\n",
       "    </tr>\n",
       "    <tr>\n",
       "      <th>407</th>\n",
       "      <td>3768.0</td>\n",
       "      <td>NaN</td>\n",
       "      <td>NaN</td>\n",
       "      <td>NaN</td>\n",
       "      <td>NaN</td>\n",
       "      <td>NaN</td>\n",
       "      <td>NaN</td>\n",
       "      <td>NaN</td>\n",
       "    </tr>\n",
       "    <tr>\n",
       "      <th>574</th>\n",
       "      <td>5137.0</td>\n",
       "      <td>NaN</td>\n",
       "      <td>NaN</td>\n",
       "      <td>NaN</td>\n",
       "      <td>NaN</td>\n",
       "      <td>NaN</td>\n",
       "      <td>NaN</td>\n",
       "      <td>NaN</td>\n",
       "    </tr>\n",
       "    <tr>\n",
       "      <th>887</th>\n",
       "      <td>7834.0</td>\n",
       "      <td>NaN</td>\n",
       "      <td>NaN</td>\n",
       "      <td>NaN</td>\n",
       "      <td>NaN</td>\n",
       "      <td>NaN</td>\n",
       "      <td>NaN</td>\n",
       "      <td>NaN</td>\n",
       "    </tr>\n",
       "    <tr>\n",
       "      <th>974</th>\n",
       "      <td>8972.0</td>\n",
       "      <td>NaN</td>\n",
       "      <td>NaN</td>\n",
       "      <td>NaN</td>\n",
       "      <td>NaN</td>\n",
       "      <td>NaN</td>\n",
       "      <td>NaN</td>\n",
       "      <td>NaN</td>\n",
       "    </tr>\n",
       "    <tr>\n",
       "      <th>1094</th>\n",
       "      <td>10114.0</td>\n",
       "      <td>NaN</td>\n",
       "      <td>NaN</td>\n",
       "      <td>NaN</td>\n",
       "      <td>NaN</td>\n",
       "      <td>NaN</td>\n",
       "      <td>NaN</td>\n",
       "      <td>NaN</td>\n",
       "    </tr>\n",
       "    <tr>\n",
       "      <th>1123</th>\n",
       "      <td>10333.0</td>\n",
       "      <td>NaN</td>\n",
       "      <td>NaN</td>\n",
       "      <td>NaN</td>\n",
       "      <td>NaN</td>\n",
       "      <td>NaN</td>\n",
       "      <td>NaN</td>\n",
       "      <td>NaN</td>\n",
       "    </tr>\n",
       "    <tr>\n",
       "      <th>1155</th>\n",
       "      <td>10671.0</td>\n",
       "      <td>NaN</td>\n",
       "      <td>NaN</td>\n",
       "      <td>NaN</td>\n",
       "      <td>NaN</td>\n",
       "      <td>NaN</td>\n",
       "      <td>NaN</td>\n",
       "      <td>NaN</td>\n",
       "    </tr>\n",
       "    <tr>\n",
       "      <th>1158</th>\n",
       "      <td>10685.0</td>\n",
       "      <td>NaN</td>\n",
       "      <td>NaN</td>\n",
       "      <td>NaN</td>\n",
       "      <td>NaN</td>\n",
       "      <td>NaN</td>\n",
       "      <td>NaN</td>\n",
       "      <td>NaN</td>\n",
       "    </tr>\n",
       "    <tr>\n",
       "      <th>1230</th>\n",
       "      <td>11184.0</td>\n",
       "      <td>NaN</td>\n",
       "      <td>NaN</td>\n",
       "      <td>NaN</td>\n",
       "      <td>NaN</td>\n",
       "      <td>NaN</td>\n",
       "      <td>NaN</td>\n",
       "      <td>NaN</td>\n",
       "    </tr>\n",
       "    <tr>\n",
       "      <th>1358</th>\n",
       "      <td>12158.0</td>\n",
       "      <td>NaN</td>\n",
       "      <td>NaN</td>\n",
       "      <td>NaN</td>\n",
       "      <td>NaN</td>\n",
       "      <td>NaN</td>\n",
       "      <td>NaN</td>\n",
       "      <td>NaN</td>\n",
       "    </tr>\n",
       "  </tbody>\n",
       "</table>\n",
       "</div>"
      ],
      "text/plain": [
       "           id  ALLINCONVENIENCE1  ALLINCONVENIENCE2  ALLINCONVENIENCE3  \\\n",
       "25      264.0                NaN                NaN                NaN   \n",
       "80      776.0                NaN                NaN                NaN   \n",
       "152    1302.0                NaN                NaN                NaN   \n",
       "178    1483.0                NaN                NaN                NaN   \n",
       "229    1919.0                NaN                NaN                NaN   \n",
       "303    2560.0                NaN                NaN                NaN   \n",
       "351    3048.0                NaN                NaN                NaN   \n",
       "393    3583.0                NaN                NaN                NaN   \n",
       "407    3768.0                NaN                NaN                NaN   \n",
       "574    5137.0                NaN                NaN                NaN   \n",
       "887    7834.0                NaN                NaN                NaN   \n",
       "974    8972.0                NaN                NaN                NaN   \n",
       "1094  10114.0                NaN                NaN                NaN   \n",
       "1123  10333.0                NaN                NaN                NaN   \n",
       "1155  10671.0                NaN                NaN                NaN   \n",
       "1158  10685.0                NaN                NaN                NaN   \n",
       "1230  11184.0                NaN                NaN                NaN   \n",
       "1358  12158.0                NaN                NaN                NaN   \n",
       "\n",
       "      ALLINCONVENIENCE4  ALLINCONVENIENCE5  ALLINCONVENIENCE6  \\\n",
       "25                  NaN                NaN                NaN   \n",
       "80                  NaN                NaN                NaN   \n",
       "152                 NaN                NaN                NaN   \n",
       "178                 NaN                NaN                NaN   \n",
       "229                 NaN                NaN                NaN   \n",
       "303                 NaN                NaN                NaN   \n",
       "351                 NaN                NaN                NaN   \n",
       "393                 NaN                NaN                NaN   \n",
       "407                 NaN                NaN                NaN   \n",
       "574                 NaN                NaN                NaN   \n",
       "887                 NaN                NaN                NaN   \n",
       "974                 NaN                NaN                NaN   \n",
       "1094                NaN                NaN                NaN   \n",
       "1123                NaN                NaN                NaN   \n",
       "1155                NaN                NaN                NaN   \n",
       "1158                NaN                NaN                NaN   \n",
       "1230                NaN                NaN                NaN   \n",
       "1358                NaN                NaN                NaN   \n",
       "\n",
       "      ALLINCONVENIENCE7  \n",
       "25                  NaN  \n",
       "80                  NaN  \n",
       "152                 NaN  \n",
       "178                 NaN  \n",
       "229                 NaN  \n",
       "303                 NaN  \n",
       "351                 NaN  \n",
       "393                 NaN  \n",
       "407                 NaN  \n",
       "574                 NaN  \n",
       "887                 NaN  \n",
       "974                 NaN  \n",
       "1094                NaN  \n",
       "1123                NaN  \n",
       "1155                NaN  \n",
       "1158                NaN  \n",
       "1230                NaN  \n",
       "1358                NaN  "
      ]
     },
     "execution_count": 54,
     "metadata": {},
     "output_type": "execute_result"
    }
   ],
   "source": [
    "df_inconvience[df_inconvience['ALLINCONVENIENCE3'].isna() == True]"
   ]
  },
  {
   "cell_type": "code",
   "execution_count": 55,
   "id": "c0ad52bf",
   "metadata": {},
   "outputs": [
    {
     "name": "stderr",
     "output_type": "stream",
     "text": [
      "<ipython-input-55-a8170f448e3a>:1: SettingWithCopyWarning: \n",
      "A value is trying to be set on a copy of a slice from a DataFrame\n",
      "\n",
      "See the caveats in the documentation: https://pandas.pydata.org/pandas-docs/stable/user_guide/indexing.html#returning-a-view-versus-a-copy\n",
      "  df_inconvience.dropna(inplace=True)\n"
     ]
    }
   ],
   "source": [
    "df_inconvience.dropna(inplace=True)"
   ]
  },
  {
   "cell_type": "code",
   "execution_count": 56,
   "id": "448d371e",
   "metadata": {},
   "outputs": [
    {
     "name": "stderr",
     "output_type": "stream",
     "text": [
      "<ipython-input-56-2ee806dd1c78>:1: SettingWithCopyWarning: \n",
      "A value is trying to be set on a copy of a slice from a DataFrame.\n",
      "Try using .loc[row_indexer,col_indexer] = value instead\n",
      "\n",
      "See the caveats in the documentation: https://pandas.pydata.org/pandas-docs/stable/user_guide/indexing.html#returning-a-view-versus-a-copy\n",
      "  df_inconvience['ALLINCONVENIENCE1'] = df_inconvience['ALLINCONVENIENCE1'].apply(lambda x:function_transform(x))\n",
      "<ipython-input-56-2ee806dd1c78>:3: SettingWithCopyWarning: \n",
      "A value is trying to be set on a copy of a slice from a DataFrame.\n",
      "Try using .loc[row_indexer,col_indexer] = value instead\n",
      "\n",
      "See the caveats in the documentation: https://pandas.pydata.org/pandas-docs/stable/user_guide/indexing.html#returning-a-view-versus-a-copy\n",
      "  df_inconvience['ALLINCONVENIENCE2'] = df_inconvience['ALLINCONVENIENCE2'].apply(lambda x:function_transform(x))\n",
      "<ipython-input-56-2ee806dd1c78>:5: SettingWithCopyWarning: \n",
      "A value is trying to be set on a copy of a slice from a DataFrame.\n",
      "Try using .loc[row_indexer,col_indexer] = value instead\n",
      "\n",
      "See the caveats in the documentation: https://pandas.pydata.org/pandas-docs/stable/user_guide/indexing.html#returning-a-view-versus-a-copy\n",
      "  df_inconvience['ALLINCONVENIENCE3'] = df_inconvience['ALLINCONVENIENCE3'].apply(lambda x:function_transform(x))\n",
      "<ipython-input-56-2ee806dd1c78>:7: SettingWithCopyWarning: \n",
      "A value is trying to be set on a copy of a slice from a DataFrame.\n",
      "Try using .loc[row_indexer,col_indexer] = value instead\n",
      "\n",
      "See the caveats in the documentation: https://pandas.pydata.org/pandas-docs/stable/user_guide/indexing.html#returning-a-view-versus-a-copy\n",
      "  df_inconvience['ALLINCONVENIENCE4'] = df_inconvience['ALLINCONVENIENCE4'].apply(lambda x:function_transform(x))\n",
      "<ipython-input-56-2ee806dd1c78>:9: SettingWithCopyWarning: \n",
      "A value is trying to be set on a copy of a slice from a DataFrame.\n",
      "Try using .loc[row_indexer,col_indexer] = value instead\n",
      "\n",
      "See the caveats in the documentation: https://pandas.pydata.org/pandas-docs/stable/user_guide/indexing.html#returning-a-view-versus-a-copy\n",
      "  df_inconvience['ALLINCONVENIENCE5'] = df_inconvience['ALLINCONVENIENCE5'].apply(lambda x:function_transform(x))\n",
      "<ipython-input-56-2ee806dd1c78>:11: SettingWithCopyWarning: \n",
      "A value is trying to be set on a copy of a slice from a DataFrame.\n",
      "Try using .loc[row_indexer,col_indexer] = value instead\n",
      "\n",
      "See the caveats in the documentation: https://pandas.pydata.org/pandas-docs/stable/user_guide/indexing.html#returning-a-view-versus-a-copy\n",
      "  df_inconvience['ALLINCONVENIENCE6'] = df_inconvience['ALLINCONVENIENCE6'].apply(lambda x:function_transform(x))\n",
      "<ipython-input-56-2ee806dd1c78>:13: SettingWithCopyWarning: \n",
      "A value is trying to be set on a copy of a slice from a DataFrame.\n",
      "Try using .loc[row_indexer,col_indexer] = value instead\n",
      "\n",
      "See the caveats in the documentation: https://pandas.pydata.org/pandas-docs/stable/user_guide/indexing.html#returning-a-view-versus-a-copy\n",
      "  df_inconvience['ALLINCONVENIENCE7'] = df_inconvience['ALLINCONVENIENCE7'].apply(lambda x:function_transform(x))\n"
     ]
    }
   ],
   "source": [
    "df_inconvience['ALLINCONVENIENCE1'] = df_inconvience['ALLINCONVENIENCE1'].apply(lambda x:function_transform(x))\n",
    "\n",
    "df_inconvience['ALLINCONVENIENCE2'] = df_inconvience['ALLINCONVENIENCE2'].apply(lambda x:function_transform(x))\n",
    "\n",
    "df_inconvience['ALLINCONVENIENCE3'] = df_inconvience['ALLINCONVENIENCE3'].apply(lambda x:function_transform(x))\n",
    "\n",
    "df_inconvience['ALLINCONVENIENCE4'] = df_inconvience['ALLINCONVENIENCE4'].apply(lambda x:function_transform(x))\n",
    "\n",
    "df_inconvience['ALLINCONVENIENCE5'] = df_inconvience['ALLINCONVENIENCE5'].apply(lambda x:function_transform(x))\n",
    "\n",
    "df_inconvience['ALLINCONVENIENCE6'] = df_inconvience['ALLINCONVENIENCE6'].apply(lambda x:function_transform(x))\n",
    "\n",
    "df_inconvience['ALLINCONVENIENCE7'] = df_inconvience['ALLINCONVENIENCE7'].apply(lambda x:function_transform(x))"
   ]
  },
  {
   "cell_type": "code",
   "execution_count": 57,
   "id": "de2947ed",
   "metadata": {},
   "outputs": [
    {
     "name": "stderr",
     "output_type": "stream",
     "text": [
      "/Users/saikrupa/opt/anaconda3/lib/python3.8/site-packages/pandas/core/frame.py:4441: SettingWithCopyWarning: \n",
      "A value is trying to be set on a copy of a slice from a DataFrame\n",
      "\n",
      "See the caveats in the documentation: https://pandas.pydata.org/pandas-docs/stable/user_guide/indexing.html#returning-a-view-versus-a-copy\n",
      "  return super().rename(\n"
     ]
    }
   ],
   "source": [
    "df_inconvience.rename(columns={'ALLINCONVENIENCE1':'complication in preparing','ALLINCONVENIENCE2':'time consuming',\n",
    "                              'ALLINCONVENIENCE3':'no restuarants for grab n go','ALLINCONVENIENCE4':'easy access',\n",
    "                              'ALLINCONVENIENCE5':'have to prepare both vegatarian and non vegetarian',\n",
    "                              'ALLINCONVENIENCE6':'hard time grocery shopping','ALLINCONVENIENCE7':'difficult during time of transition'},inplace=True)"
   ]
  },
  {
   "cell_type": "code",
   "execution_count": 58,
   "id": "e217985c",
   "metadata": {},
   "outputs": [
    {
     "name": "stderr",
     "output_type": "stream",
     "text": [
      "/Users/saikrupa/opt/anaconda3/lib/python3.8/site-packages/pandas/core/frame.py:4308: SettingWithCopyWarning: \n",
      "A value is trying to be set on a copy of a slice from a DataFrame\n",
      "\n",
      "See the caveats in the documentation: https://pandas.pydata.org/pandas-docs/stable/user_guide/indexing.html#returning-a-view-versus-a-copy\n",
      "  return super().drop(\n"
     ]
    }
   ],
   "source": [
    "df_inconvience.drop(columns=['id'],inplace=True)"
   ]
  },
  {
   "cell_type": "code",
   "execution_count": 59,
   "id": "91e58e07",
   "metadata": {},
   "outputs": [],
   "source": [
    "df_inconvience = df_inconvience.apply(pd.Series.value_counts)"
   ]
  },
  {
   "cell_type": "code",
   "execution_count": 60,
   "id": "8760e8c1",
   "metadata": {},
   "outputs": [],
   "source": [
    "df_inconvience = df_inconvience.transpose()"
   ]
  },
  {
   "cell_type": "code",
   "execution_count": 61,
   "id": "36cf2f95",
   "metadata": {},
   "outputs": [],
   "source": [
    "df_inconvience = df_inconvience.rename(columns={1:\"Disagree\",5:\"Neither agree nor disagree\",3:\"Agree\"})\n",
    "df_inconvience.reset_index(inplace=True)"
   ]
  },
  {
   "cell_type": "code",
   "execution_count": 62,
   "id": "2ae1e8a1",
   "metadata": {},
   "outputs": [],
   "source": [
    "df_inconvience.rename(columns={'index':'reason'},inplace=True)"
   ]
  },
  {
   "cell_type": "code",
   "execution_count": 63,
   "id": "2369c8c0",
   "metadata": {},
   "outputs": [
    {
     "data": {
      "text/html": [
       "<div>\n",
       "<style scoped>\n",
       "    .dataframe tbody tr th:only-of-type {\n",
       "        vertical-align: middle;\n",
       "    }\n",
       "\n",
       "    .dataframe tbody tr th {\n",
       "        vertical-align: top;\n",
       "    }\n",
       "\n",
       "    .dataframe thead th {\n",
       "        text-align: right;\n",
       "    }\n",
       "</style>\n",
       "<table border=\"1\" class=\"dataframe\">\n",
       "  <thead>\n",
       "    <tr style=\"text-align: right;\">\n",
       "      <th></th>\n",
       "      <th>reason</th>\n",
       "      <th>Disagree</th>\n",
       "      <th>Agree</th>\n",
       "      <th>Neither agree nor disagree</th>\n",
       "    </tr>\n",
       "  </thead>\n",
       "  <tbody>\n",
       "    <tr>\n",
       "      <th>0</th>\n",
       "      <td>complication in preparing</td>\n",
       "      <td>804</td>\n",
       "      <td>285</td>\n",
       "      <td>280</td>\n",
       "    </tr>\n",
       "    <tr>\n",
       "      <th>1</th>\n",
       "      <td>time consuming</td>\n",
       "      <td>686</td>\n",
       "      <td>312</td>\n",
       "      <td>371</td>\n",
       "    </tr>\n",
       "    <tr>\n",
       "      <th>2</th>\n",
       "      <td>no restuarants for grab n go</td>\n",
       "      <td>521</td>\n",
       "      <td>291</td>\n",
       "      <td>557</td>\n",
       "    </tr>\n",
       "    <tr>\n",
       "      <th>3</th>\n",
       "      <td>easy access</td>\n",
       "      <td>828</td>\n",
       "      <td>254</td>\n",
       "      <td>287</td>\n",
       "    </tr>\n",
       "    <tr>\n",
       "      <th>4</th>\n",
       "      <td>have to prepare both vegatarian and non vegeta...</td>\n",
       "      <td>801</td>\n",
       "      <td>175</td>\n",
       "      <td>393</td>\n",
       "    </tr>\n",
       "    <tr>\n",
       "      <th>5</th>\n",
       "      <td>hard time grocery shopping</td>\n",
       "      <td>1082</td>\n",
       "      <td>158</td>\n",
       "      <td>129</td>\n",
       "    </tr>\n",
       "    <tr>\n",
       "      <th>6</th>\n",
       "      <td>difficult during time of transition</td>\n",
       "      <td>698</td>\n",
       "      <td>315</td>\n",
       "      <td>356</td>\n",
       "    </tr>\n",
       "  </tbody>\n",
       "</table>\n",
       "</div>"
      ],
      "text/plain": [
       "                                              reason  Disagree  Agree  \\\n",
       "0                          complication in preparing       804    285   \n",
       "1                                     time consuming       686    312   \n",
       "2                       no restuarants for grab n go       521    291   \n",
       "3                                        easy access       828    254   \n",
       "4  have to prepare both vegatarian and non vegeta...       801    175   \n",
       "5                         hard time grocery shopping      1082    158   \n",
       "6                difficult during time of transition       698    315   \n",
       "\n",
       "   Neither agree nor disagree  \n",
       "0                         280  \n",
       "1                         371  \n",
       "2                         557  \n",
       "3                         287  \n",
       "4                         393  \n",
       "5                         129  \n",
       "6                         356  "
      ]
     },
     "execution_count": 63,
     "metadata": {},
     "output_type": "execute_result"
    }
   ],
   "source": [
    "df_inconvience"
   ]
  },
  {
   "cell_type": "code",
   "execution_count": 64,
   "id": "8ed83647",
   "metadata": {},
   "outputs": [],
   "source": [
    "df_inconvience.to_csv('../project_data/inconvience_reasons.csv',index=False,encoding='utf-8')"
   ]
  },
  {
   "cell_type": "markdown",
   "id": "084bd8d7",
   "metadata": {},
   "source": [
    "### Transition and length of veganism and what age groups are feeling a difficulty of transition"
   ]
  },
  {
   "cell_type": "code",
   "execution_count": 61,
   "id": "50cc6ca2",
   "metadata": {},
   "outputs": [],
   "source": [
    "df_categorical = df[['id','ALLAGEADOPTION','ALLTRANSITION','ALLLENGTH']]"
   ]
  },
  {
   "cell_type": "code",
   "execution_count": 62,
   "id": "f4f111ea",
   "metadata": {},
   "outputs": [],
   "source": [
    "def func_age(x):\n",
    "    if x>=0 and x<=20:\n",
    "        return \"0-20\"\n",
    "    elif x>20 and x<=40:\n",
    "        return \"20-40\"\n",
    "    elif x>40 and x<=60:\n",
    "        return \"40-60\"\n",
    "    elif x>60 and x<=80:\n",
    "        return \"60-80\"\n",
    "    else:\n",
    "        return \"80-100\""
   ]
  },
  {
   "cell_type": "code",
   "execution_count": 63,
   "id": "ecb13585",
   "metadata": {},
   "outputs": [
    {
     "name": "stderr",
     "output_type": "stream",
     "text": [
      "<ipython-input-63-5156b4ad1045>:1: SettingWithCopyWarning: \n",
      "A value is trying to be set on a copy of a slice from a DataFrame.\n",
      "Try using .loc[row_indexer,col_indexer] = value instead\n",
      "\n",
      "See the caveats in the documentation: https://pandas.pydata.org/pandas-docs/stable/user_guide/indexing.html#returning-a-view-versus-a-copy\n",
      "  df_categorical['Age'] = df_categorical['ALLAGEADOPTION'].apply(lambda x: func_age(x))\n"
     ]
    }
   ],
   "source": [
    "df_categorical['Age'] = df_categorical['ALLAGEADOPTION'].apply(lambda x: func_age(x))"
   ]
  },
  {
   "cell_type": "code",
   "execution_count": 64,
   "id": "61e27ae2",
   "metadata": {},
   "outputs": [],
   "source": [
    "df_age_transition = df_categorical[['id','Age']]"
   ]
  },
  {
   "cell_type": "code",
   "execution_count": 65,
   "id": "781fae68",
   "metadata": {},
   "outputs": [],
   "source": [
    "df_merge = pd.merge(df_age_transition, df[['id','ALLINCONVENIENCE7']],left_on=\"id\",right_on=\"id\")"
   ]
  },
  {
   "cell_type": "code",
   "execution_count": 66,
   "id": "2548cc23",
   "metadata": {},
   "outputs": [],
   "source": [
    "df_merge.dropna(inplace=True)"
   ]
  },
  {
   "cell_type": "code",
   "execution_count": 67,
   "id": "47bb9a1d",
   "metadata": {},
   "outputs": [],
   "source": [
    "df_merge['id'] = df_merge['id'].apply(lambda x:int(x))"
   ]
  },
  {
   "cell_type": "code",
   "execution_count": 68,
   "id": "598d2273",
   "metadata": {},
   "outputs": [],
   "source": [
    "df_merge['ALLINCONVENIENCE7'] = df_merge['ALLINCONVENIENCE7'].apply(lambda x:int(x))"
   ]
  },
  {
   "cell_type": "code",
   "execution_count": 69,
   "id": "81c9443b",
   "metadata": {},
   "outputs": [],
   "source": [
    "df_merge.rename(columns={'ALLINCONVENIENCE7':'difficulty_during_transition'},inplace=True)"
   ]
  },
  {
   "cell_type": "code",
   "execution_count": 70,
   "id": "cdcc10ed",
   "metadata": {},
   "outputs": [],
   "source": [
    "df_merge.to_csv(\"../project_data/age_difficulty_during_transition.csv\",index=False)"
   ]
  },
  {
   "cell_type": "code",
   "execution_count": 71,
   "id": "64e3ae9b",
   "metadata": {},
   "outputs": [
    {
     "name": "stderr",
     "output_type": "stream",
     "text": [
      "<ipython-input-71-0d2ac5fb1b75>:1: SettingWithCopyWarning: \n",
      "A value is trying to be set on a copy of a slice from a DataFrame\n",
      "\n",
      "See the caveats in the documentation: https://pandas.pydata.org/pandas-docs/stable/user_guide/indexing.html#returning-a-view-versus-a-copy\n",
      "  df_categorical.dropna(inplace=True)\n"
     ]
    }
   ],
   "source": [
    "df_categorical.dropna(inplace=True)"
   ]
  },
  {
   "cell_type": "code",
   "execution_count": 72,
   "id": "c1b1f2b1",
   "metadata": {},
   "outputs": [
    {
     "name": "stderr",
     "output_type": "stream",
     "text": [
      "<ipython-input-72-54f469b17cd1>:1: SettingWithCopyWarning: \n",
      "A value is trying to be set on a copy of a slice from a DataFrame.\n",
      "Try using .loc[row_indexer,col_indexer] = value instead\n",
      "\n",
      "See the caveats in the documentation: https://pandas.pydata.org/pandas-docs/stable/user_guide/indexing.html#returning-a-view-versus-a-copy\n",
      "  df_categorical['ALLLENGTH'] = df_categorical['ALLLENGTH'].apply(lambda x:int(x))\n",
      "<ipython-input-72-54f469b17cd1>:2: SettingWithCopyWarning: \n",
      "A value is trying to be set on a copy of a slice from a DataFrame.\n",
      "Try using .loc[row_indexer,col_indexer] = value instead\n",
      "\n",
      "See the caveats in the documentation: https://pandas.pydata.org/pandas-docs/stable/user_guide/indexing.html#returning-a-view-versus-a-copy\n",
      "  df_categorical['ALLTRANSITION'] = df_categorical['ALLTRANSITION'].apply(lambda x:int(x))\n"
     ]
    }
   ],
   "source": [
    "df_categorical['ALLLENGTH'] = df_categorical['ALLLENGTH'].apply(lambda x:int(x))\n",
    "df_categorical['ALLTRANSITION'] = df_categorical['ALLTRANSITION'].apply(lambda x:int(x))"
   ]
  },
  {
   "cell_type": "code",
   "execution_count": 73,
   "id": "f0fa1f92",
   "metadata": {},
   "outputs": [],
   "source": [
    "def function_for_transition_length(x):\n",
    "    if x==1:\n",
    "        return \"0-3 months\"\n",
    "    elif x==2:\n",
    "        return \"4-11 months\"\n",
    "    elif x==3:\n",
    "        return \"1-2 years\"\n",
    "    elif x==4:\n",
    "        return \"3-5 years\"\n",
    "    elif x==5:\n",
    "        return \"6-9 years\"\n",
    "    elif x==6:\n",
    "        return \"9 or more years\"\n",
    "    else:\n",
    "        return \"No idea\""
   ]
  },
  {
   "cell_type": "code",
   "execution_count": 74,
   "id": "a07224fd",
   "metadata": {},
   "outputs": [
    {
     "name": "stderr",
     "output_type": "stream",
     "text": [
      "<ipython-input-74-76ac80bf3a95>:1: SettingWithCopyWarning: \n",
      "A value is trying to be set on a copy of a slice from a DataFrame.\n",
      "Try using .loc[row_indexer,col_indexer] = value instead\n",
      "\n",
      "See the caveats in the documentation: https://pandas.pydata.org/pandas-docs/stable/user_guide/indexing.html#returning-a-view-versus-a-copy\n",
      "  df_categorical['ALLLENGTH'] = df_categorical['ALLLENGTH'].apply(lambda x:function_for_transition_length(x))\n",
      "<ipython-input-74-76ac80bf3a95>:2: SettingWithCopyWarning: \n",
      "A value is trying to be set on a copy of a slice from a DataFrame.\n",
      "Try using .loc[row_indexer,col_indexer] = value instead\n",
      "\n",
      "See the caveats in the documentation: https://pandas.pydata.org/pandas-docs/stable/user_guide/indexing.html#returning-a-view-versus-a-copy\n",
      "  df_categorical['ALLTRANSITION'] = df_categorical['ALLTRANSITION'].apply(lambda x:function_for_transition_length(x))\n"
     ]
    }
   ],
   "source": [
    "df_categorical['ALLLENGTH'] = df_categorical['ALLLENGTH'].apply(lambda x:function_for_transition_length(x))\n",
    "df_categorical['ALLTRANSITION'] = df_categorical['ALLTRANSITION'].apply(lambda x:function_for_transition_length(x))"
   ]
  },
  {
   "cell_type": "code",
   "execution_count": 75,
   "id": "999085b6",
   "metadata": {},
   "outputs": [
    {
     "name": "stderr",
     "output_type": "stream",
     "text": [
      "/Users/saikrupa/opt/anaconda3/lib/python3.8/site-packages/pandas/core/frame.py:4441: SettingWithCopyWarning: \n",
      "A value is trying to be set on a copy of a slice from a DataFrame\n",
      "\n",
      "See the caveats in the documentation: https://pandas.pydata.org/pandas-docs/stable/user_guide/indexing.html#returning-a-view-versus-a-copy\n",
      "  return super().rename(\n"
     ]
    }
   ],
   "source": [
    "df_categorical.rename(columns={'ALLTRANSITION':'Time_for_transition','ALLLENGTH':'Length_of_veganism'},inplace=True)"
   ]
  },
  {
   "cell_type": "code",
   "execution_count": 76,
   "id": "3d844067",
   "metadata": {},
   "outputs": [],
   "source": [
    "df_categorical.to_csv('../project_data/age_transition_legth.csv',index=False,encoding='utf-8')"
   ]
  },
  {
   "cell_type": "markdown",
   "id": "95ea0d91",
   "metadata": {},
   "source": [
    "### Time series data"
   ]
  },
  {
   "cell_type": "code",
   "execution_count": 1,
   "id": "7e0977da",
   "metadata": {},
   "outputs": [],
   "source": [
    "def func(x):\n",
    "    try:\n",
    "        x = datetime.fromisoformat(x[:-1])\n",
    "        x = x.strftime('%Y-%m')\n",
    "    except Exception as e:\n",
    "        x = None\n",
    "    return x"
   ]
  },
  {
   "cell_type": "code",
   "execution_count": null,
   "id": "4a06c7b4",
   "metadata": {},
   "outputs": [],
   "source": [
    "df_1['date'] = df_1['dateAdded'].apply(lambda x:func(x))"
   ]
  },
  {
   "cell_type": "code",
   "execution_count": null,
   "id": "703e8ff1",
   "metadata": {},
   "outputs": [],
   "source": [
    "df_time_series = df_1['date'].value_counts().rename_axis('date').reset_index(name='counts')"
   ]
  },
  {
   "cell_type": "code",
   "execution_count": null,
   "id": "a7ef90f7",
   "metadata": {},
   "outputs": [],
   "source": [
    "df_time_series.to_csv('../project_data/timeseries_opening_of_restuarants.csv',index=False)"
   ]
  },
  {
   "cell_type": "code",
   "execution_count": null,
   "id": "f4333d12",
   "metadata": {},
   "outputs": [],
   "source": []
  },
  {
   "cell_type": "code",
   "execution_count": null,
   "id": "c7902493",
   "metadata": {},
   "outputs": [],
   "source": []
  }
 ],
 "metadata": {
  "kernelspec": {
   "display_name": "Python 3",
   "language": "python",
   "name": "python3"
  },
  "language_info": {
   "codemirror_mode": {
    "name": "ipython",
    "version": 3
   },
   "file_extension": ".py",
   "mimetype": "text/x-python",
   "name": "python",
   "nbconvert_exporter": "python",
   "pygments_lexer": "ipython3",
   "version": "3.8.8"
  }
 },
 "nbformat": 4,
 "nbformat_minor": 5
}
